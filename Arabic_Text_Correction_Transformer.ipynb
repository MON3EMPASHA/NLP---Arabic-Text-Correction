{
  "cells": [
    {
      "cell_type": "markdown",
      "id": "95f004a9",
      "metadata": {
        "id": "95f004a9"
      },
      "source": [
        "### imports"
      ]
    },
    {
      "cell_type": "code",
      "execution_count": 29,
      "id": "377a66c7-fa12-4556-8f06-60c62d0fce58",
      "metadata": {
        "colab": {
          "base_uri": "https://localhost:8080/"
        },
        "id": "377a66c7-fa12-4556-8f06-60c62d0fce58",
        "outputId": "ce76d682-b772-406b-f737-0f7dc375068f"
      },
      "outputs": [
        {
          "name": "stdout",
          "output_type": "stream",
          "text": [
            "Requirement already satisfied: tensorflow in /usr/local/lib/python3.11/dist-packages (2.18.0)\n",
            "Requirement already satisfied: absl-py>=1.0.0 in /usr/local/lib/python3.11/dist-packages (from tensorflow) (1.4.0)\n",
            "Requirement already satisfied: astunparse>=1.6.0 in /usr/local/lib/python3.11/dist-packages (from tensorflow) (1.6.3)\n",
            "Requirement already satisfied: flatbuffers>=24.3.25 in /usr/local/lib/python3.11/dist-packages (from tensorflow) (25.2.10)\n",
            "Requirement already satisfied: gast!=0.5.0,!=0.5.1,!=0.5.2,>=0.2.1 in /usr/local/lib/python3.11/dist-packages (from tensorflow) (0.6.0)\n",
            "Requirement already satisfied: google-pasta>=0.1.1 in /usr/local/lib/python3.11/dist-packages (from tensorflow) (0.2.0)\n",
            "Requirement already satisfied: libclang>=13.0.0 in /usr/local/lib/python3.11/dist-packages (from tensorflow) (18.1.1)\n",
            "Requirement already satisfied: opt-einsum>=2.3.2 in /usr/local/lib/python3.11/dist-packages (from tensorflow) (3.4.0)\n",
            "Requirement already satisfied: packaging in /usr/local/lib/python3.11/dist-packages (from tensorflow) (24.2)\n",
            "Requirement already satisfied: protobuf!=4.21.0,!=4.21.1,!=4.21.2,!=4.21.3,!=4.21.4,!=4.21.5,<6.0.0dev,>=3.20.3 in /usr/local/lib/python3.11/dist-packages (from tensorflow) (5.29.4)\n",
            "Requirement already satisfied: requests<3,>=2.21.0 in /usr/local/lib/python3.11/dist-packages (from tensorflow) (2.32.3)\n",
            "Requirement already satisfied: setuptools in /usr/local/lib/python3.11/dist-packages (from tensorflow) (75.2.0)\n",
            "Requirement already satisfied: six>=1.12.0 in /usr/local/lib/python3.11/dist-packages (from tensorflow) (1.17.0)\n",
            "Requirement already satisfied: termcolor>=1.1.0 in /usr/local/lib/python3.11/dist-packages (from tensorflow) (3.0.1)\n",
            "Requirement already satisfied: typing-extensions>=3.6.6 in /usr/local/lib/python3.11/dist-packages (from tensorflow) (4.13.2)\n",
            "Requirement already satisfied: wrapt>=1.11.0 in /usr/local/lib/python3.11/dist-packages (from tensorflow) (1.17.2)\n",
            "Requirement already satisfied: grpcio<2.0,>=1.24.3 in /usr/local/lib/python3.11/dist-packages (from tensorflow) (1.71.0)\n",
            "Requirement already satisfied: tensorboard<2.19,>=2.18 in /usr/local/lib/python3.11/dist-packages (from tensorflow) (2.18.0)\n",
            "Requirement already satisfied: keras>=3.5.0 in /usr/local/lib/python3.11/dist-packages (from tensorflow) (3.8.0)\n",
            "Requirement already satisfied: numpy<2.1.0,>=1.26.0 in /usr/local/lib/python3.11/dist-packages (from tensorflow) (2.0.2)\n",
            "Requirement already satisfied: h5py>=3.11.0 in /usr/local/lib/python3.11/dist-packages (from tensorflow) (3.13.0)\n",
            "Requirement already satisfied: ml-dtypes<0.5.0,>=0.4.0 in /usr/local/lib/python3.11/dist-packages (from tensorflow) (0.4.1)\n",
            "Requirement already satisfied: tensorflow-io-gcs-filesystem>=0.23.1 in /usr/local/lib/python3.11/dist-packages (from tensorflow) (0.37.1)\n",
            "Requirement already satisfied: wheel<1.0,>=0.23.0 in /usr/local/lib/python3.11/dist-packages (from astunparse>=1.6.0->tensorflow) (0.45.1)\n",
            "Requirement already satisfied: rich in /usr/local/lib/python3.11/dist-packages (from keras>=3.5.0->tensorflow) (13.9.4)\n",
            "Requirement already satisfied: namex in /usr/local/lib/python3.11/dist-packages (from keras>=3.5.0->tensorflow) (0.0.8)\n",
            "Requirement already satisfied: optree in /usr/local/lib/python3.11/dist-packages (from keras>=3.5.0->tensorflow) (0.15.0)\n",
            "Requirement already satisfied: charset-normalizer<4,>=2 in /usr/local/lib/python3.11/dist-packages (from requests<3,>=2.21.0->tensorflow) (3.4.1)\n",
            "Requirement already satisfied: idna<4,>=2.5 in /usr/local/lib/python3.11/dist-packages (from requests<3,>=2.21.0->tensorflow) (3.10)\n",
            "Requirement already satisfied: urllib3<3,>=1.21.1 in /usr/local/lib/python3.11/dist-packages (from requests<3,>=2.21.0->tensorflow) (2.3.0)\n",
            "Requirement already satisfied: certifi>=2017.4.17 in /usr/local/lib/python3.11/dist-packages (from requests<3,>=2.21.0->tensorflow) (2025.1.31)\n",
            "Requirement already satisfied: markdown>=2.6.8 in /usr/local/lib/python3.11/dist-packages (from tensorboard<2.19,>=2.18->tensorflow) (3.8)\n",
            "Requirement already satisfied: tensorboard-data-server<0.8.0,>=0.7.0 in /usr/local/lib/python3.11/dist-packages (from tensorboard<2.19,>=2.18->tensorflow) (0.7.2)\n",
            "Requirement already satisfied: werkzeug>=1.0.1 in /usr/local/lib/python3.11/dist-packages (from tensorboard<2.19,>=2.18->tensorflow) (3.1.3)\n",
            "Requirement already satisfied: MarkupSafe>=2.1.1 in /usr/local/lib/python3.11/dist-packages (from werkzeug>=1.0.1->tensorboard<2.19,>=2.18->tensorflow) (3.0.2)\n",
            "Requirement already satisfied: markdown-it-py>=2.2.0 in /usr/local/lib/python3.11/dist-packages (from rich->keras>=3.5.0->tensorflow) (3.0.0)\n",
            "Requirement already satisfied: pygments<3.0.0,>=2.13.0 in /usr/local/lib/python3.11/dist-packages (from rich->keras>=3.5.0->tensorflow) (2.18.0)\n",
            "Requirement already satisfied: mdurl~=0.1 in /usr/local/lib/python3.11/dist-packages (from markdown-it-py>=2.2.0->rich->keras>=3.5.0->tensorflow) (0.1.2)\n",
            "Requirement already satisfied: matplotlib in /usr/local/lib/python3.11/dist-packages (3.10.0)\n",
            "Requirement already satisfied: contourpy>=1.0.1 in /usr/local/lib/python3.11/dist-packages (from matplotlib) (1.3.2)\n",
            "Requirement already satisfied: cycler>=0.10 in /usr/local/lib/python3.11/dist-packages (from matplotlib) (0.12.1)\n",
            "Requirement already satisfied: fonttools>=4.22.0 in /usr/local/lib/python3.11/dist-packages (from matplotlib) (4.57.0)\n",
            "Requirement already satisfied: kiwisolver>=1.3.1 in /usr/local/lib/python3.11/dist-packages (from matplotlib) (1.4.8)\n",
            "Requirement already satisfied: numpy>=1.23 in /usr/local/lib/python3.11/dist-packages (from matplotlib) (2.0.2)\n",
            "Requirement already satisfied: packaging>=20.0 in /usr/local/lib/python3.11/dist-packages (from matplotlib) (24.2)\n",
            "Requirement already satisfied: pillow>=8 in /usr/local/lib/python3.11/dist-packages (from matplotlib) (11.1.0)\n",
            "Requirement already satisfied: pyparsing>=2.3.1 in /usr/local/lib/python3.11/dist-packages (from matplotlib) (3.2.3)\n",
            "Requirement already satisfied: python-dateutil>=2.7 in /usr/local/lib/python3.11/dist-packages (from matplotlib) (2.8.2)\n",
            "Requirement already satisfied: six>=1.5 in /usr/local/lib/python3.11/dist-packages (from python-dateutil>=2.7->matplotlib) (1.17.0)\n"
          ]
        }
      ],
      "source": [
        "!pip install tensorflow\n",
        "!pip install matplotlib\n",
        "\n",
        "import tensorflow as tf\n",
        "from tensorflow.keras import layers, models\n",
        "from tensorflow.keras.optimizers.schedules import ExponentialDecay\n",
        "import unicodedata\n",
        "import json\n",
        "from sklearn.model_selection import train_test_split\n",
        "import numpy as np\n",
        "import matplotlib.pyplot as plt\n",
        "import random"
      ]
    },
    {
      "cell_type": "markdown",
      "id": "d9122983",
      "metadata": {
        "id": "d9122983"
      },
      "source": [
        "### Text Preprocessing"
      ]
    },
    {
      "cell_type": "code",
      "execution_count": 30,
      "id": "5c82dc2e",
      "metadata": {
        "id": "5c82dc2e"
      },
      "outputs": [],
      "source": [
        "# Normalization: Handle Unicode + replace common Arabic chars + remove diacritics\n",
        "\n",
        "def normalize_arabic(text):\n",
        "    text = unicodedata.normalize('NFKD', text)\n",
        "\n",
        "    replacements = {\n",
        "        'أ': 'ا',\n",
        "        'إ': 'ا',\n",
        "        'آ': 'ا',\n",
        "        'ى': 'ي',\n",
        "        'ة': 'ه',\n",
        "        'ؤ': 'و',\n",
        "        'ئ': 'ي',\n",
        "        'ـ': ''\n",
        "    }\n",
        "    for old, new in replacements.items():\n",
        "        text = text.replace(old, new)\n",
        "\n",
        "    # Remove tanween lw feeh\n",
        "    text = ''.join([c for c in text if not unicodedata.combining(c)])\n",
        "\n",
        "    return text"
      ]
    },
    {
      "cell_type": "markdown",
      "id": "6a3c187e",
      "metadata": {
        "id": "6a3c187e"
      },
      "source": [
        "### Load & Prepare Data"
      ]
    },
    {
      "cell_type": "code",
      "execution_count": 31,
      "id": "67200cd1",
      "metadata": {
        "colab": {
          "base_uri": "https://localhost:8080/"
        },
        "id": "67200cd1",
        "outputId": "ee861303-01e6-4d55-9791-e94b946b9e77"
      },
      "outputs": [
        {
          "name": "stdout",
          "output_type": "stream",
          "text": [
            "1000\n"
          ]
        }
      ],
      "source": [
        "# Load noisy and clean JSON text\n",
        "data_limit = 1000\n",
        "with open('./scrapping data/noisy_articles.json', encoding='utf-8') as f:\n",
        "    noisy_data = json.load(f)[:data_limit]\n",
        "\n",
        "with open('./scrapping data/clean_articles.json', encoding='utf-8') as f:\n",
        "    clean_data = json.load(f)[:data_limit]\n",
        "\n",
        "# print num of rows\n",
        "print(len( clean_data))\n",
        "# Apply normalization\n",
        "x = [normalize_arabic(item[\"text\"]) for item in noisy_data]\n",
        "y = [normalize_arabic(item[\"text\"]) for item in clean_data]\n",
        "\n",
        "# Split into training and testing sets\n",
        "xtrain, xtest, ytrain, ytest = train_test_split(x, y, test_size=0.2, random_state=42)\n"
      ]
    },
    {
      "cell_type": "code",
      "execution_count": 32,
      "id": "4f5fc0d7",
      "metadata": {
        "colab": {
          "base_uri": "https://localhost:8080/"
        },
        "id": "4f5fc0d7",
        "outputId": "851dd642-e33d-4a52-a834-100b235b74bb"
      },
      "outputs": [
        {
          "name": "stdout",
          "output_type": "stream",
          "text": [
            "يعتبر مكتب شكاوي المراه التابع للمجلس القضم يللمراه بمثابه مساحه ظامنك للمراب المصريه موجود فرع له في كل محافظات مص للماسهمه في ح لالشكلات والعقبات القانونيه والاجتماعيا والنفسيه التي توجه المراه المصريه وتساندها في الحصول علي كل حقاوقها المختلفه مءن خلال مكاتبه في 27 محافظه والرقم المختصر 1ل115 وعدد اخر من ذالهوسايل كل سيده تستطيع توصيل يستفسارها ومشكلتها للرد قعليها من قبل مجموعه مكونه من 70 من الخبراء الهقانونيين والاجتماعيين والنفسيين لتدقيم الاستشاره بطرقه احترافيه، واحالتها لعد دمن لضركاء من قطاعا تانفاذ القناون او شبكه لامحاميان المتطوعين (620 يمحامي متطوع ) او الشرصكاء مقدمي الخدمات اغلاجتمعايه والنفسيه والطبيه او الخدميات الاقتصاديهغ).\n",
            "ويالمكتب هو بحد اليات عمل المجلس القومي للداه في ضوء الهدف من انشاوه \" لتعزيز قحوق وحريات المراه وتنشميتها وحماايتها كما ويهدف الي نشر العي بهع الاسهام ف ضمان اممضارستها وترسيخ قيم المساواه وتكافو الرص وعمد التمرييز وذلك كله بمقتضي الدستور وفي ضوء الاتفاقات والمواثيق الدوليه اتلي تصدق عليها لمصر\" ( 2 من قانون 30 لسهن 2018).من بين اختصاصات المجلس زالقومي للرماه تلقي ودراسه الشكاوي لاخاصه بانتهاك حقو قوحريات الضاره واحالتها ال يجهات الاختاصص، والعمل علي حلها مع الجهات المعنيه، تووفير الساعهد اتلبقضيايه اللازمهق واملا اسللطات العامه عن اي انتهاكات لحهقوق وحريات خلمراص، ونشر ثقافه حمايتها، وتمكيها.\n",
            "الاحوال الشخصيه ولايه علي المال وولايه علي النفس\n",
            "جرايم العنف والتمييز والحردمان\n",
            "جرايم الادجار في البشر\n",
            "جرييم اهلجره غير الشرعنه\n",
            "شكاوي العمل\n",
            "جرايم تقنيه المعلومات\n",
            "طلبات نفي الاحكام\n",
            "استحقاق لامواريث\n",
            "الحمايه الاجتماعيه\n",
            "خدمات الحكمه ولااوراق الثبوتيه\n",
            "الدعثم النفسي والمشوره الزاسريه\n"
          ]
        }
      ],
      "source": [
        "print(xtrain[1])"
      ]
    },
    {
      "cell_type": "code",
      "execution_count": 33,
      "id": "908ca5e2",
      "metadata": {
        "colab": {
          "base_uri": "https://localhost:8080/"
        },
        "id": "908ca5e2",
        "outputId": "f00cde38-5b2c-4bc3-8485-8515a3a69c68"
      },
      "outputs": [
        {
          "name": "stdout",
          "output_type": "stream",
          "text": [
            "يعتبر مكتب شكاوي المراه التابع للمجلس القومي للمراه بمثابه مساحه امنه للمراه المصريه موجود فرع له في كل محافظات مصر للمساهمه في حل المشكلات والعقبات القانونيه والاجتماعيه والنفسيه التي تواجه المراه المصريه وتساندها في الحصول علي كل حقوقها المختلفه من خلال مكاتبه في 27 محافظه والرقم المختصر 15115 وعدد اخر من الوسايل كل سيده تستطيع توصيل استفسارها ومشكلتها للرد عليها من قبل مجموعه مكونه من 70 من الخبراء القانونيين والاجتماعيين والنفسيين لتقديم الاستشاره بطريقه احترافيه، واحالتها لعدد من الشركاء من قطاعات انفاذ القانون او شبكه المحامين المتطوعين (620 محامي متطوع ) او الشركاء مقدمي الخدمات الاجتماعيه والنفسيه والطبيه او الخدمات الاقتصاديه).\n",
            "والمكتب هو احد اليات عمل المجلس القومي للمراه في ضوء الهدف من انشاوه \" لتعزيز حقوق وحريات المراه وتنميتها وحمايتها كما يهدف الي نشر الوعي بها والاسهام في ضمان ممارستها وترسيخ قيم المساواه وتكافو الفرص وعدم التمييز وذلك كله بمقتضي الدستور وفي ضوء الاتفاقيات والمواثيق الدوليه التي تصدق عليها مصر\" (م 2 من قانون 30 لسنه 2018).ومن بين اختصاصات المجلس القومي للمراه تلقي ودراسه الشكاوي الخاصه بانتهاك حقوق وحريات المراه واحالتها الي جهات الاختصاص، والعمل علي حلها مع الجهات المعنيه، وتوفير المساعده القضاييه اللازمه، وابلاغ السلطات العامه عن اي انتهاكات لحقوق وحريات المراه، ونشر ثقافه حمايتها، وتمكينها.\n",
            "الاحوال الشخصيه ولايه علي المال وولايه علي النفس\n",
            "جرايم العنف والتمييز والحرمان\n",
            "جرايم الاتجار في البشر\n",
            "جرايم الهجره غير الشرعيه\n",
            "شكاوي العمل\n",
            "جرايم تقنيه المعلومات\n",
            "طلبات تنفيذ الاحكام\n",
            "استحقاق المواريث\n",
            "الحمايه الاجتماعيه\n",
            "خدمات الحكومه والاوراق الثبوتيه\n",
            "الدعم النفسي والمشوره الاسريه\n"
          ]
        }
      ],
      "source": [
        "print(ytrain[1])"
      ]
    },
    {
      "cell_type": "markdown",
      "id": "92fee580",
      "metadata": {
        "id": "92fee580"
      },
      "source": [
        "### Tokenization (Text Vectorization)"
      ]
    },
    {
      "cell_type": "code",
      "execution_count": 34,
      "id": "fb9a54e5-e2ba-4568-99fb-f1bd3e217ad5",
      "metadata": {
        "id": "fb9a54e5-e2ba-4568-99fb-f1bd3e217ad5"
      },
      "outputs": [],
      "source": [
        "#convert the raw Arabic text into numerical representations that the model can process.\n",
        "\n",
        "max_seq_len = 256 # Maximum number of tokens per text\n",
        "vocab_size = 30000 # Limits vocabulary to top 30,000 most frequent words\n",
        "\n",
        "vectorizer = layers.TextVectorization(\n",
        "    max_tokens=vocab_size,\n",
        "    output_sequence_length=max_seq_len,\n",
        "    standardize=None\n",
        ")\n",
        "vectorizer.adapt(tf.constant(xtrain + ytrain))"
      ]
    },
    {
      "cell_type": "code",
      "execution_count": 35,
      "id": "697127b0",
      "metadata": {
        "id": "697127b0"
      },
      "outputs": [],
      "source": [
        "# Add start and end tokens\n",
        "start_token = \"[START]\"\n",
        "end_token = \"[END]\"\n",
        "ytrain = [f\"{start_token} {text} {end_token}\" for text in ytrain]\n",
        "ytest = [f\"{start_token} {text} {end_token}\" for text in ytest]\n",
        "\n",
        "# Update vocabulary with special tokens\n",
        "vocab = vectorizer.get_vocabulary()\n",
        "# The mask token '' is likely at the beginning of the vocab. Insert your tokens after it.\n",
        "if start_token not in vocab:\n",
        "    # Ensure the mask token and OOV token are at the beginning\n",
        "    vocab = [vocab[0],  vocab[1]] + [start_token, end_token] + vocab[2:vocab_size-2]  # vocab[0] is likely the mask token '' # vocab[1] is the OOV token '[UNK]'\n",
        "    vectorizer.set_vocabulary(vocab)"
      ]
    },
    {
      "cell_type": "markdown",
      "id": "8485681a",
      "metadata": {
        "id": "8485681a"
      },
      "source": [
        "### Prepare TensorFlow Dataset"
      ]
    },
    {
      "cell_type": "code",
      "execution_count": 36,
      "id": "d104f651",
      "metadata": {
        "id": "d104f651"
      },
      "outputs": [],
      "source": [
        "def encode(noisy, clean):\n",
        "    # Vectorize\n",
        "    noisy_vec = vectorizer(tf.convert_to_tensor([noisy]))[0]\n",
        "    clean_vec = vectorizer(tf.convert_to_tensor([clean]))[0]\n",
        "\n",
        "    # Decoder inputs: clean sequence without the last token\n",
        "    decoder_inputs = clean_vec[:-1]\n",
        "    # Target: clean sequence without the first token\n",
        "    target = clean_vec[1:]\n",
        "\n",
        "    return {\n",
        "        \"encoder_inputs\": noisy_vec,\n",
        "        \"decoder_inputs\": decoder_inputs\n",
        "    }, target\n",
        "\n",
        "batch_size = 32\n",
        "max_enc_len = max_seq_len\n",
        "max_dec_len = max_seq_len - 1\n",
        "\n",
        "# Create dataset\n",
        "dataset = tf.data.Dataset.from_tensor_slices((xtrain, ytrain))\n",
        "dataset = dataset.map(encode, num_parallel_calls=tf.data.AUTOTUNE)\n",
        "\n",
        "# Batch with padding\n",
        "dataset = dataset.padded_batch(\n",
        "    batch_size,\n",
        "    padded_shapes=(\n",
        "        {\n",
        "            \"encoder_inputs\": [max_enc_len],\n",
        "            \"decoder_inputs\": [max_dec_len]\n",
        "        },\n",
        "        [max_dec_len]\n",
        "    ),\n",
        "    padding_values=(\n",
        "        {\n",
        "            \"encoder_inputs\": tf.cast(0, tf.int64),\n",
        "            \"decoder_inputs\": tf.cast(0, tf.int64)\n",
        "        },\n",
        "        tf.cast(0, tf.int64)\n",
        "    ),\n",
        "    drop_remainder=True\n",
        ")\n",
        "\n",
        "dataset = dataset.cache().prefetch(tf.data.AUTOTUNE)"
      ]
    },
    {
      "cell_type": "markdown",
      "id": "8a2aaec5",
      "metadata": {
        "id": "8a2aaec5"
      },
      "source": [
        "### Positional Encoding"
      ]
    },
    {
      "cell_type": "code",
      "execution_count": 37,
      "id": "5c19fb85",
      "metadata": {
        "id": "5c19fb85"
      },
      "outputs": [],
      "source": [
        "# Positional Encoding\n",
        "def positional_encoding(pos, d_model):\n",
        "    angle_rads = tf.cast(tf.range(pos)[:, tf.newaxis], tf.float32) * (\n",
        "        1.0 / tf.pow(\n",
        "            tf.constant(10000, dtype=tf.float32),\n",
        "            tf.cast(2 * (tf.range(d_model)[tf.newaxis, :] // 2), tf.float32) / tf.cast(d_model, tf.float32)\n",
        "        )\n",
        "    )\n",
        "\n",
        "    sines = tf.math.sin(angle_rads[:, 0::2])\n",
        "    cosines = tf.math.cos(angle_rads[:, 1::2])\n",
        "    pos_encoding = tf.concat([sines, cosines], axis=-1)\n",
        "    return pos_encoding[tf.newaxis, ...]"
      ]
    },
    {
      "cell_type": "markdown",
      "id": "9ff9b81a",
      "metadata": {
        "id": "9ff9b81a"
      },
      "source": [
        "### Build Transformer Model"
      ]
    },
    {
      "cell_type": "code",
      "execution_count": 38,
      "id": "bc851581",
      "metadata": {
        "id": "bc851581"
      },
      "outputs": [],
      "source": [
        "seq_len = max_seq_len\n",
        "d_model = 256  # Reduced from 512 to help with small dataset\n",
        "num_heads = 8\n",
        "dff = 512  # Reduced from 2048\n",
        "num_layers = 4\n",
        "dropout_rate = 0.1\n",
        "\n",
        "# Inputs\n",
        "encoder_inputs = layers.Input(shape=(None,), dtype=tf.int64, name=\"encoder_inputs\")\n",
        "decoder_inputs = layers.Input(shape=(None,), dtype=tf.int64, name=\"decoder_inputs\")\n",
        "\n",
        "# Embedding + Positional Encoding\n",
        "embedding_layer = layers.Embedding(vocab_size, d_model, mask_zero=True)\n",
        "\n",
        "def positional_encoding_layer(x):\n",
        "    length = tf.shape(x)[1]\n",
        "    pos_enc = positional_encoding(1000, d_model)[:, :length, :]\n",
        "    return x + pos_enc\n",
        "\n",
        "# Encoder\n",
        "enc_emb = embedding_layer(encoder_inputs) * tf.math.sqrt(tf.cast(d_model, tf.float32))\n",
        "enc_emb = layers.Lambda(positional_encoding_layer)(enc_emb)\n",
        "enc_emb = layers.Dropout(dropout_rate)(enc_emb)\n",
        "\n",
        "encoder_output = enc_emb\n",
        "for _ in range(num_layers):\n",
        "    # Self attention\n",
        "    attention = layers.MultiHeadAttention(\n",
        "        num_heads=num_heads,\n",
        "        key_dim=d_model,\n",
        "        dropout=dropout_rate\n",
        "    )(encoder_output, encoder_output)\n",
        "    attention = layers.Dropout(dropout_rate)(attention)\n",
        "    encoder_output = layers.LayerNormalization(epsilon=1e-6)(encoder_output + attention)\n",
        "\n",
        "    # Feed forward\n",
        "    ffn = layers.Dense(dff, activation='gelu')(encoder_output)\n",
        "    ffn = layers.Dense(d_model)(ffn)\n",
        "    ffn = layers.Dropout(dropout_rate)(ffn)\n",
        "    encoder_output = layers.LayerNormalization(epsilon=1e-6)(encoder_output + ffn)\n",
        "\n",
        "# Decoder\n",
        "dec_emb = embedding_layer(decoder_inputs) * tf.math.sqrt(tf.cast(d_model, tf.float32))\n",
        "dec_emb = layers.Lambda(positional_encoding_layer)(dec_emb)\n",
        "dec_emb = layers.Dropout(dropout_rate)(dec_emb)\n",
        "\n",
        "decoder_output = dec_emb\n",
        "for _ in range(num_layers):\n",
        "    # Self attention\n",
        "    self_attention = layers.MultiHeadAttention(\n",
        "        num_heads=num_heads,\n",
        "        key_dim=d_model,\n",
        "        dropout=dropout_rate\n",
        "    )(decoder_output, decoder_output)\n",
        "    self_attention = layers.Dropout(dropout_rate)(self_attention)\n",
        "    decoder_output = layers.LayerNormalization(epsilon=1e-6)(decoder_output + self_attention)\n",
        "\n",
        "    # Cross attention\n",
        "    cross_attention = layers.MultiHeadAttention(\n",
        "        num_heads=num_heads,\n",
        "        key_dim=d_model,\n",
        "        dropout=dropout_rate\n",
        "    )(decoder_output, encoder_output)\n",
        "    cross_attention = layers.Dropout(dropout_rate)(cross_attention)\n",
        "    decoder_output = layers.LayerNormalization(epsilon=1e-6)(decoder_output + cross_attention)\n",
        "\n",
        "    # Feed forward\n",
        "    ffn = layers.Dense(dff, activation='gelu')(decoder_output)\n",
        "    ffn = layers.Dense(d_model)(ffn)\n",
        "    ffn = layers.Dropout(dropout_rate)(ffn)\n",
        "    decoder_output = layers.LayerNormalization(epsilon=1e-6)(decoder_output + ffn)\n",
        "\n",
        "# Final Output Layer\n",
        "final_output = layers.Dense(vocab_size)(decoder_output)\n",
        "\n",
        "# Build Model\n",
        "model = tf.keras.Model(\n",
        "    inputs={\"encoder_inputs\": encoder_inputs, \"decoder_inputs\": decoder_inputs},\n",
        "    outputs=final_output\n",
        ")"
      ]
    },
    {
      "cell_type": "code",
      "execution_count": 39,
      "id": "de0597e0",
      "metadata": {
        "colab": {
          "base_uri": "https://localhost:8080/"
        },
        "id": "de0597e0",
        "outputId": "05b59234-295e-465f-9118-94edf0c8f2ab"
      },
      "outputs": [
        {
          "name": "stdout",
          "output_type": "stream",
          "text": [
            "30000\n"
          ]
        }
      ],
      "source": [
        "print(len(vectorizer.get_vocabulary()))\n"
      ]
    },
    {
      "cell_type": "code",
      "execution_count": 39,
      "id": "0b62e0f7",
      "metadata": {
        "id": "0b62e0f7"
      },
      "outputs": [],
      "source": []
    },
    {
      "cell_type": "markdown",
      "id": "b972aee7",
      "metadata": {
        "id": "b972aee7"
      },
      "source": [
        "### Compile and Train Model"
      ]
    },
    {
      "cell_type": "code",
      "execution_count": 40,
      "id": "e7d9a882",
      "metadata": {
        "colab": {
          "base_uri": "https://localhost:8080/"
        },
        "id": "e7d9a882",
        "outputId": "281005a8-89c7-44dd-ca8f-0c8eab11538c"
      },
      "outputs": [
        {
          "name": "stdout",
          "output_type": "stream",
          "text": [
            "Epoch 1/20\n",
            "\u001b[1m25/25\u001b[0m \u001b[32m━━━━━━━━━━━━━━━━━━━━\u001b[0m\u001b[37m\u001b[0m \u001b[1m109s\u001b[0m 991ms/step - accuracy: 0.1674 - loss: 9.9506\n",
            "Epoch 2/20\n",
            "\u001b[1m25/25\u001b[0m \u001b[32m━━━━━━━━━━━━━━━━━━━━\u001b[0m\u001b[37m\u001b[0m \u001b[1m24s\u001b[0m 947ms/step - accuracy: 0.2078 - loss: 9.2480\n",
            "Epoch 3/20\n",
            "\u001b[1m25/25\u001b[0m \u001b[32m━━━━━━━━━━━━━━━━━━━━\u001b[0m\u001b[37m\u001b[0m \u001b[1m41s\u001b[0m 936ms/step - accuracy: 0.2078 - loss: 8.7170\n",
            "Epoch 4/20\n",
            "\u001b[1m25/25\u001b[0m \u001b[32m━━━━━━━━━━━━━━━━━━━━\u001b[0m\u001b[37m\u001b[0m \u001b[1m42s\u001b[0m 978ms/step - accuracy: 0.2078 - loss: 8.2852\n",
            "Epoch 5/20\n",
            "\u001b[1m25/25\u001b[0m \u001b[32m━━━━━━━━━━━━━━━━━━━━\u001b[0m\u001b[37m\u001b[0m \u001b[1m24s\u001b[0m 956ms/step - accuracy: 0.2078 - loss: 7.9347\n",
            "Epoch 6/20\n",
            "\u001b[1m25/25\u001b[0m \u001b[32m━━━━━━━━━━━━━━━━━━━━\u001b[0m\u001b[37m\u001b[0m \u001b[1m40s\u001b[0m 933ms/step - accuracy: 0.2094 - loss: 7.6443\n",
            "Epoch 7/20\n",
            "\u001b[1m25/25\u001b[0m \u001b[32m━━━━━━━━━━━━━━━━━━━━\u001b[0m\u001b[37m\u001b[0m \u001b[1m42s\u001b[0m 977ms/step - accuracy: 0.2208 - loss: 7.3990\n",
            "Epoch 8/20\n",
            "\u001b[1m25/25\u001b[0m \u001b[32m━━━━━━━━━━━━━━━━━━━━\u001b[0m\u001b[37m\u001b[0m \u001b[1m24s\u001b[0m 958ms/step - accuracy: 0.2356 - loss: 7.1907\n",
            "Epoch 9/20\n",
            "\u001b[1m25/25\u001b[0m \u001b[32m━━━━━━━━━━━━━━━━━━━━\u001b[0m\u001b[37m\u001b[0m \u001b[1m23s\u001b[0m 935ms/step - accuracy: 0.2406 - loss: 7.0112\n",
            "Epoch 10/20\n",
            "\u001b[1m25/25\u001b[0m \u001b[32m━━━━━━━━━━━━━━━━━━━━\u001b[0m\u001b[37m\u001b[0m \u001b[1m41s\u001b[0m 949ms/step - accuracy: 0.2418 - loss: 6.8528\n",
            "Epoch 11/20\n",
            "\u001b[1m25/25\u001b[0m \u001b[32m━━━━━━━━━━━━━━━━━━━━\u001b[0m\u001b[37m\u001b[0m \u001b[1m42s\u001b[0m 972ms/step - accuracy: 0.2433 - loss: 6.7131\n",
            "Epoch 12/20\n",
            "\u001b[1m25/25\u001b[0m \u001b[32m━━━━━━━━━━━━━━━━━━━━\u001b[0m\u001b[37m\u001b[0m \u001b[1m40s\u001b[0m 952ms/step - accuracy: 0.2448 - loss: 6.5948\n",
            "Epoch 13/20\n",
            "\u001b[1m25/25\u001b[0m \u001b[32m━━━━━━━━━━━━━━━━━━━━\u001b[0m\u001b[37m\u001b[0m \u001b[1m41s\u001b[0m 970ms/step - accuracy: 0.2478 - loss: 6.4905\n",
            "Epoch 14/20\n",
            "\u001b[1m25/25\u001b[0m \u001b[32m━━━━━━━━━━━━━━━━━━━━\u001b[0m\u001b[37m\u001b[0m \u001b[1m24s\u001b[0m 964ms/step - accuracy: 0.2529 - loss: 6.3945\n",
            "Epoch 15/20\n",
            "\u001b[1m25/25\u001b[0m \u001b[32m━━━━━━━━━━━━━━━━━━━━\u001b[0m\u001b[37m\u001b[0m \u001b[1m40s\u001b[0m 940ms/step - accuracy: 0.2584 - loss: 6.3033\n",
            "Epoch 16/20\n",
            "\u001b[1m25/25\u001b[0m \u001b[32m━━━━━━━━━━━━━━━━━━━━\u001b[0m\u001b[37m\u001b[0m \u001b[1m25s\u001b[0m 985ms/step - accuracy: 0.2635 - loss: 6.2140\n",
            "Epoch 17/20\n",
            "\u001b[1m25/25\u001b[0m \u001b[32m━━━━━━━━━━━━━━━━━━━━\u001b[0m\u001b[37m\u001b[0m \u001b[1m24s\u001b[0m 954ms/step - accuracy: 0.2686 - loss: 6.1262\n",
            "Epoch 18/20\n",
            "\u001b[1m25/25\u001b[0m \u001b[32m━━━━━━━━━━━━━━━━━━━━\u001b[0m\u001b[37m\u001b[0m \u001b[1m24s\u001b[0m 942ms/step - accuracy: 0.2737 - loss: 6.0421\n",
            "Epoch 19/20\n",
            "\u001b[1m25/25\u001b[0m \u001b[32m━━━━━━━━━━━━━━━━━━━━\u001b[0m\u001b[37m\u001b[0m \u001b[1m24s\u001b[0m 952ms/step - accuracy: 0.2804 - loss: 5.9513\n",
            "Epoch 20/20\n",
            "\u001b[1m25/25\u001b[0m \u001b[32m━━━━━━━━━━━━━━━━━━━━\u001b[0m\u001b[37m\u001b[0m \u001b[1m24s\u001b[0m 958ms/step - accuracy: 0.2865 - loss: 5.8675\n"
          ]
        }
      ],
      "source": [
        "lr_schedule = ExponentialDecay(\n",
        "    initial_learning_rate=1e-4,\n",
        "    decay_steps=10000,\n",
        "    decay_rate=0.9,\n",
        "    staircase=False\n",
        ")\n",
        "\n",
        "optimizer = tf.keras.optimizers.Adam(\n",
        "    lr_schedule,\n",
        "    beta_1=0.9,\n",
        "    beta_2=0.98,\n",
        "    epsilon=1e-9\n",
        ")\n",
        "\n",
        "model.compile(\n",
        "    optimizer=optimizer,\n",
        "    loss=tf.keras.losses.SparseCategoricalCrossentropy(from_logits=True),\n",
        "    metrics=[\"accuracy\"]\n",
        ")\n",
        "\n",
        "# Train\n",
        "history = model.fit(dataset, epochs=20)"
      ]
    },
    {
      "cell_type": "markdown",
      "id": "14c31a6d",
      "metadata": {
        "id": "14c31a6d"
      },
      "source": [
        "###  Plot Training Results"
      ]
    },
    {
      "cell_type": "code",
      "execution_count": 41,
      "id": "bd4d1b26",
      "metadata": {
        "colab": {
          "base_uri": "https://localhost:8080/",
          "height": 472
        },
        "id": "bd4d1b26",
        "outputId": "1018ceaf-9a9a-4250-b067-e8995fa6f935"
      },
      "outputs": [
        {
          "data": {
            "image/png": "[encoded data removed]",
            "text/plain": [
              "<Figure size 640x480 with 1 Axes>"
            ]
          },
          "metadata": {},
          "output_type": "display_data"
        }
      ],
      "source": [
        "plt.plot(history.history[\"loss\"])\n",
        "plt.title(\"Training Loss\")\n",
        "plt.xlabel(\"Epoch\")\n",
        "plt.ylabel(\"Loss\")\n",
        "plt.grid(True)\n",
        "plt.show()\n"
      ]
    },
    {
      "cell_type": "code",
      "execution_count": 42,
      "id": "b946d8ab",
      "metadata": {
        "colab": {
          "base_uri": "https://localhost:8080/"
        },
        "id": "b946d8ab",
        "outputId": "943ed020-a2b7-4724-b209-2a1c536e07f1"
      },
      "outputs": [
        {
          "name": "stderr",
          "output_type": "stream",
          "text": [
            "/usr/local/lib/python3.11/dist-packages/keras/src/ops/nn.py:907: UserWarning: You are using a softmax over axis 3 of a tensor of shape (1, 8, 1, 1). This axis has size 1. The softmax operation will always return the value 1, which is likely not what you intended. Did you mean to use a sigmoid instead?\n",
            "  warnings.warn(\n"
          ]
        },
        {
          "name": "stdout",
          "output_type": "stream",
          "text": [
            "Noisy sentence     : ھذە الجملت فیھا اخطاء\n",
            "Corrected sentence : قال الدكتور احمد عبد الفتاح                                             \n"
          ]
        }
      ],
      "source": [
        "def correct_text(input_text, max_length=50):\n",
        "    # Normalize input\n",
        "    normalized_input = normalize_arabic(input_text)\n",
        "\n",
        "    # Vectorize input\n",
        "    encoder_input = vectorizer(tf.convert_to_tensor([normalized_input]))\n",
        "\n",
        "    # Initialize decoder input with start token\n",
        "    start_token_id = vectorizer([start_token]).numpy()[0][0]\n",
        "    decoder_input = tf.expand_dims([start_token_id], 0)\n",
        "\n",
        "    output_ids = []\n",
        "\n",
        "    for i in range(max_length):\n",
        "        # Predict next token\n",
        "        predictions = model({\n",
        "            \"encoder_inputs\": encoder_input,\n",
        "            \"decoder_inputs\": decoder_input\n",
        "        }, training=False)\n",
        "\n",
        "        # Get most likely token\n",
        "        predicted_id = tf.argmax(predictions[:, -1, :], axis=-1).numpy()[0]\n",
        "\n",
        "        # Stop if we predict the end token\n",
        "        if predicted_id == vectorizer([end_token]).numpy()[0][0]:\n",
        "            break\n",
        "\n",
        "        # Append predicted token to output\n",
        "        output_ids.append(predicted_id)\n",
        "\n",
        "        # Update decoder input for next step\n",
        "        decoder_input = tf.concat([\n",
        "            decoder_input,\n",
        "            tf.expand_dims([predicted_id], 0)\n",
        "        ], axis=-1)\n",
        "\n",
        "    # Convert token IDs to text\n",
        "    vocab = vectorizer.get_vocabulary()\n",
        "    corrected_text = ' '.join([vocab[token_id] for token_id in output_ids])\n",
        "\n",
        "    return corrected_text\n",
        "\n",
        "# Test the model\n",
        "noisy_sentence = \"ھذە الجملت فیھا اخطاء\"\n",
        "corrected_sentence = correct_text(noisy_sentence)\n",
        "\n",
        "print(\"Noisy sentence     :\", noisy_sentence)\n",
        "print(\"Corrected sentence :\", corrected_sentence)"
      ]
    }
  ],
  "metadata": {
    "accelerator": "GPU",
    "colab": {
      "collapsed_sections": [
        "95f004a9",
        "d9122983",
        "6a3c187e",
        "92fee580",
        "8485681a",
        "8a2aaec5",
        "9ff9b81a"
      ],
      "gpuType": "T4",
      "provenance": []
    },
    "kernelspec": {
      "display_name": "Python 3 (ipykernel)",
      "language": "python",
      "name": "python3"
    }
  },
  "nbformat": 4,
  "nbformat_minor": 5
}
